{
  "cells": [
    {
      "cell_type": "markdown",
      "metadata": {
        "id": "3aHS8Q6KaGnC"
      },
      "source": [
        "## Taller 1: Estadística Descriptiva\n",
        "\n",
        "#### Acerca del conjunto de datos\n",
        "\n",
        "El conjunto de datos que se utilizará en este taller corresponde a las calificaciones de 36 estudiantes del programa de Ingeniería de Sistenas de una Universidad Colombiana donde se aplicó intervención temprana a través de tutoría grupal y talleres de refuerzo.\n",
        "\n",
        "#### Diccionario de Datos\n",
        "\n",
        "| Variable                                | Tipo             | Descripción |\n",
        "|-----------------------------------------|------------------|-------------|\n",
        "| estudiante                              | Entero           | Identificador del estudiante. |\n",
        "| calificacion_final                      | Decimal          | Calificación final obtenida por el estudiante en el curso. |\n",
        "| porcentaje_asistencia_tutoria_grupal    | Entero           | Porcentaje de asistencias generadas por el estudiante a las tutorias grupales. |\n",
        "| porcentaje_ejercicios_talleres_refuerzo | Entero           | Porcentaje de ejercicios desarrollados por el estudiante en los talleres de refuerzo propuestos durante el curso. |"
      ]
    },
    {
      "cell_type": "markdown",
      "metadata": {
        "id": "s97ia5JpaGnH"
      },
      "source": [
        "### Nombre del Estudiante:\n",
        "\n",
        "**JUAN CAMILO ANGEL TORRENTE**"
      ]
    },
    {
      "cell_type": "markdown",
      "metadata": {
        "id": "5l2dF-6DaGnH"
      },
      "source": [
        "### Paso 1: Importar las Librerias"
      ]
    },
    {
      "cell_type": "code",
      "execution_count": 106,
      "metadata": {
        "id": "ZPg1QGPQaGnI"
      },
      "outputs": [],
      "source": [
        "# Libreria para estadística\n",
        "import numpy as np\n",
        "# Libreria para manejo de datos\n",
        "import pandas as pd\n",
        "# Libreria para calcular la significancia estadística y el coeficiente de correlación\n",
        "from scipy import stats\n",
        "# Libreria para gráficas\n",
        "import matplotlib.pyplot as plt"
      ]
    },
    {
      "cell_type": "markdown",
      "metadata": {
        "id": "cUXJNN8taGnK"
      },
      "source": [
        "### Paso 2: Cargar datos del grupo"
      ]
    },
    {
      "cell_type": "code",
      "execution_count": 107,
      "metadata": {
        "colab": {
          "base_uri": "https://localhost:8080/",
          "height": 363
        },
        "id": "HqFP0JXWaGnK",
        "outputId": "86176258-6755-4194-ff89-d7420b81a6b9"
      },
      "outputs": [
        {
          "output_type": "execute_result",
          "data": {
            "text/plain": [
              "   estudiante  calificacion_final  porcentaje_asistencia_tutoria_grupal  \\\n",
              "0           1                 3.0                                    36   \n",
              "1           2                 3.1                                    54   \n",
              "2           3                 3.9                                    45   \n",
              "3           4                 3.7                                    45   \n",
              "4           5                 4.6                                    54   \n",
              "5           6                 3.1                                    18   \n",
              "6           7                 3.7                                    36   \n",
              "7           8                 4.6                                    45   \n",
              "8           9                 2.3                                    18   \n",
              "9          10                 2.3                                     0   \n",
              "\n",
              "   porcentaje_ejercicios_talleres_refuerzo  \n",
              "0                                      100  \n",
              "1                                       88  \n",
              "2                                      100  \n",
              "3                                      100  \n",
              "4                                      100  \n",
              "5                                       44  \n",
              "6                                      100  \n",
              "7                                      100  \n",
              "8                                       33  \n",
              "9                                        0  "
            ],
            "text/html": [
              "\n",
              "  <div id=\"df-5ee96415-9896-4939-a2fd-2a82703d0437\" class=\"colab-df-container\">\n",
              "    <div>\n",
              "<style scoped>\n",
              "    .dataframe tbody tr th:only-of-type {\n",
              "        vertical-align: middle;\n",
              "    }\n",
              "\n",
              "    .dataframe tbody tr th {\n",
              "        vertical-align: top;\n",
              "    }\n",
              "\n",
              "    .dataframe thead th {\n",
              "        text-align: right;\n",
              "    }\n",
              "</style>\n",
              "<table border=\"1\" class=\"dataframe\">\n",
              "  <thead>\n",
              "    <tr style=\"text-align: right;\">\n",
              "      <th></th>\n",
              "      <th>estudiante</th>\n",
              "      <th>calificacion_final</th>\n",
              "      <th>porcentaje_asistencia_tutoria_grupal</th>\n",
              "      <th>porcentaje_ejercicios_talleres_refuerzo</th>\n",
              "    </tr>\n",
              "  </thead>\n",
              "  <tbody>\n",
              "    <tr>\n",
              "      <th>0</th>\n",
              "      <td>1</td>\n",
              "      <td>3.0</td>\n",
              "      <td>36</td>\n",
              "      <td>100</td>\n",
              "    </tr>\n",
              "    <tr>\n",
              "      <th>1</th>\n",
              "      <td>2</td>\n",
              "      <td>3.1</td>\n",
              "      <td>54</td>\n",
              "      <td>88</td>\n",
              "    </tr>\n",
              "    <tr>\n",
              "      <th>2</th>\n",
              "      <td>3</td>\n",
              "      <td>3.9</td>\n",
              "      <td>45</td>\n",
              "      <td>100</td>\n",
              "    </tr>\n",
              "    <tr>\n",
              "      <th>3</th>\n",
              "      <td>4</td>\n",
              "      <td>3.7</td>\n",
              "      <td>45</td>\n",
              "      <td>100</td>\n",
              "    </tr>\n",
              "    <tr>\n",
              "      <th>4</th>\n",
              "      <td>5</td>\n",
              "      <td>4.6</td>\n",
              "      <td>54</td>\n",
              "      <td>100</td>\n",
              "    </tr>\n",
              "    <tr>\n",
              "      <th>5</th>\n",
              "      <td>6</td>\n",
              "      <td>3.1</td>\n",
              "      <td>18</td>\n",
              "      <td>44</td>\n",
              "    </tr>\n",
              "    <tr>\n",
              "      <th>6</th>\n",
              "      <td>7</td>\n",
              "      <td>3.7</td>\n",
              "      <td>36</td>\n",
              "      <td>100</td>\n",
              "    </tr>\n",
              "    <tr>\n",
              "      <th>7</th>\n",
              "      <td>8</td>\n",
              "      <td>4.6</td>\n",
              "      <td>45</td>\n",
              "      <td>100</td>\n",
              "    </tr>\n",
              "    <tr>\n",
              "      <th>8</th>\n",
              "      <td>9</td>\n",
              "      <td>2.3</td>\n",
              "      <td>18</td>\n",
              "      <td>33</td>\n",
              "    </tr>\n",
              "    <tr>\n",
              "      <th>9</th>\n",
              "      <td>10</td>\n",
              "      <td>2.3</td>\n",
              "      <td>0</td>\n",
              "      <td>0</td>\n",
              "    </tr>\n",
              "  </tbody>\n",
              "</table>\n",
              "</div>\n",
              "    <div class=\"colab-df-buttons\">\n",
              "\n",
              "  <div class=\"colab-df-container\">\n",
              "    <button class=\"colab-df-convert\" onclick=\"convertToInteractive('df-5ee96415-9896-4939-a2fd-2a82703d0437')\"\n",
              "            title=\"Convert this dataframe to an interactive table.\"\n",
              "            style=\"display:none;\">\n",
              "\n",
              "  <svg xmlns=\"http://www.w3.org/2000/svg\" height=\"24px\" viewBox=\"0 -960 960 960\">\n",
              "    <path d=\"M120-120v-720h720v720H120Zm60-500h600v-160H180v160Zm220 220h160v-160H400v160Zm0 220h160v-160H400v160ZM180-400h160v-160H180v160Zm440 0h160v-160H620v160ZM180-180h160v-160H180v160Zm440 0h160v-160H620v160Z\"/>\n",
              "  </svg>\n",
              "    </button>\n",
              "\n",
              "  <style>\n",
              "    .colab-df-container {\n",
              "      display:flex;\n",
              "      gap: 12px;\n",
              "    }\n",
              "\n",
              "    .colab-df-convert {\n",
              "      background-color: #E8F0FE;\n",
              "      border: none;\n",
              "      border-radius: 50%;\n",
              "      cursor: pointer;\n",
              "      display: none;\n",
              "      fill: #1967D2;\n",
              "      height: 32px;\n",
              "      padding: 0 0 0 0;\n",
              "      width: 32px;\n",
              "    }\n",
              "\n",
              "    .colab-df-convert:hover {\n",
              "      background-color: #E2EBFA;\n",
              "      box-shadow: 0px 1px 2px rgba(60, 64, 67, 0.3), 0px 1px 3px 1px rgba(60, 64, 67, 0.15);\n",
              "      fill: #174EA6;\n",
              "    }\n",
              "\n",
              "    .colab-df-buttons div {\n",
              "      margin-bottom: 4px;\n",
              "    }\n",
              "\n",
              "    [theme=dark] .colab-df-convert {\n",
              "      background-color: #3B4455;\n",
              "      fill: #D2E3FC;\n",
              "    }\n",
              "\n",
              "    [theme=dark] .colab-df-convert:hover {\n",
              "      background-color: #434B5C;\n",
              "      box-shadow: 0px 1px 3px 1px rgba(0, 0, 0, 0.15);\n",
              "      filter: drop-shadow(0px 1px 2px rgba(0, 0, 0, 0.3));\n",
              "      fill: #FFFFFF;\n",
              "    }\n",
              "  </style>\n",
              "\n",
              "    <script>\n",
              "      const buttonEl =\n",
              "        document.querySelector('#df-5ee96415-9896-4939-a2fd-2a82703d0437 button.colab-df-convert');\n",
              "      buttonEl.style.display =\n",
              "        google.colab.kernel.accessAllowed ? 'block' : 'none';\n",
              "\n",
              "      async function convertToInteractive(key) {\n",
              "        const element = document.querySelector('#df-5ee96415-9896-4939-a2fd-2a82703d0437');\n",
              "        const dataTable =\n",
              "          await google.colab.kernel.invokeFunction('convertToInteractive',\n",
              "                                                    [key], {});\n",
              "        if (!dataTable) return;\n",
              "\n",
              "        const docLinkHtml = 'Like what you see? Visit the ' +\n",
              "          '<a target=\"_blank\" href=https://colab.research.google.com/notebooks/data_table.ipynb>data table notebook</a>'\n",
              "          + ' to learn more about interactive tables.';\n",
              "        element.innerHTML = '';\n",
              "        dataTable['output_type'] = 'display_data';\n",
              "        await google.colab.output.renderOutput(dataTable, element);\n",
              "        const docLink = document.createElement('div');\n",
              "        docLink.innerHTML = docLinkHtml;\n",
              "        element.appendChild(docLink);\n",
              "      }\n",
              "    </script>\n",
              "  </div>\n",
              "\n",
              "\n",
              "    <div id=\"df-c8ed7626-859e-4b3b-a32f-d443f4cf8c39\">\n",
              "      <button class=\"colab-df-quickchart\" onclick=\"quickchart('df-c8ed7626-859e-4b3b-a32f-d443f4cf8c39')\"\n",
              "                title=\"Suggest charts\"\n",
              "                style=\"display:none;\">\n",
              "\n",
              "<svg xmlns=\"http://www.w3.org/2000/svg\" height=\"24px\"viewBox=\"0 0 24 24\"\n",
              "     width=\"24px\">\n",
              "    <g>\n",
              "        <path d=\"M19 3H5c-1.1 0-2 .9-2 2v14c0 1.1.9 2 2 2h14c1.1 0 2-.9 2-2V5c0-1.1-.9-2-2-2zM9 17H7v-7h2v7zm4 0h-2V7h2v10zm4 0h-2v-4h2v4z\"/>\n",
              "    </g>\n",
              "</svg>\n",
              "      </button>\n",
              "\n",
              "<style>\n",
              "  .colab-df-quickchart {\n",
              "      --bg-color: #E8F0FE;\n",
              "      --fill-color: #1967D2;\n",
              "      --hover-bg-color: #E2EBFA;\n",
              "      --hover-fill-color: #174EA6;\n",
              "      --disabled-fill-color: #AAA;\n",
              "      --disabled-bg-color: #DDD;\n",
              "  }\n",
              "\n",
              "  [theme=dark] .colab-df-quickchart {\n",
              "      --bg-color: #3B4455;\n",
              "      --fill-color: #D2E3FC;\n",
              "      --hover-bg-color: #434B5C;\n",
              "      --hover-fill-color: #FFFFFF;\n",
              "      --disabled-bg-color: #3B4455;\n",
              "      --disabled-fill-color: #666;\n",
              "  }\n",
              "\n",
              "  .colab-df-quickchart {\n",
              "    background-color: var(--bg-color);\n",
              "    border: none;\n",
              "    border-radius: 50%;\n",
              "    cursor: pointer;\n",
              "    display: none;\n",
              "    fill: var(--fill-color);\n",
              "    height: 32px;\n",
              "    padding: 0;\n",
              "    width: 32px;\n",
              "  }\n",
              "\n",
              "  .colab-df-quickchart:hover {\n",
              "    background-color: var(--hover-bg-color);\n",
              "    box-shadow: 0 1px 2px rgba(60, 64, 67, 0.3), 0 1px 3px 1px rgba(60, 64, 67, 0.15);\n",
              "    fill: var(--button-hover-fill-color);\n",
              "  }\n",
              "\n",
              "  .colab-df-quickchart-complete:disabled,\n",
              "  .colab-df-quickchart-complete:disabled:hover {\n",
              "    background-color: var(--disabled-bg-color);\n",
              "    fill: var(--disabled-fill-color);\n",
              "    box-shadow: none;\n",
              "  }\n",
              "\n",
              "  .colab-df-spinner {\n",
              "    border: 2px solid var(--fill-color);\n",
              "    border-color: transparent;\n",
              "    border-bottom-color: var(--fill-color);\n",
              "    animation:\n",
              "      spin 1s steps(1) infinite;\n",
              "  }\n",
              "\n",
              "  @keyframes spin {\n",
              "    0% {\n",
              "      border-color: transparent;\n",
              "      border-bottom-color: var(--fill-color);\n",
              "      border-left-color: var(--fill-color);\n",
              "    }\n",
              "    20% {\n",
              "      border-color: transparent;\n",
              "      border-left-color: var(--fill-color);\n",
              "      border-top-color: var(--fill-color);\n",
              "    }\n",
              "    30% {\n",
              "      border-color: transparent;\n",
              "      border-left-color: var(--fill-color);\n",
              "      border-top-color: var(--fill-color);\n",
              "      border-right-color: var(--fill-color);\n",
              "    }\n",
              "    40% {\n",
              "      border-color: transparent;\n",
              "      border-right-color: var(--fill-color);\n",
              "      border-top-color: var(--fill-color);\n",
              "    }\n",
              "    60% {\n",
              "      border-color: transparent;\n",
              "      border-right-color: var(--fill-color);\n",
              "    }\n",
              "    80% {\n",
              "      border-color: transparent;\n",
              "      border-right-color: var(--fill-color);\n",
              "      border-bottom-color: var(--fill-color);\n",
              "    }\n",
              "    90% {\n",
              "      border-color: transparent;\n",
              "      border-bottom-color: var(--fill-color);\n",
              "    }\n",
              "  }\n",
              "</style>\n",
              "\n",
              "      <script>\n",
              "        async function quickchart(key) {\n",
              "          const quickchartButtonEl =\n",
              "            document.querySelector('#' + key + ' button');\n",
              "          quickchartButtonEl.disabled = true;  // To prevent multiple clicks.\n",
              "          quickchartButtonEl.classList.add('colab-df-spinner');\n",
              "          try {\n",
              "            const charts = await google.colab.kernel.invokeFunction(\n",
              "                'suggestCharts', [key], {});\n",
              "          } catch (error) {\n",
              "            console.error('Error during call to suggestCharts:', error);\n",
              "          }\n",
              "          quickchartButtonEl.classList.remove('colab-df-spinner');\n",
              "          quickchartButtonEl.classList.add('colab-df-quickchart-complete');\n",
              "        }\n",
              "        (() => {\n",
              "          let quickchartButtonEl =\n",
              "            document.querySelector('#df-c8ed7626-859e-4b3b-a32f-d443f4cf8c39 button');\n",
              "          quickchartButtonEl.style.display =\n",
              "            google.colab.kernel.accessAllowed ? 'block' : 'none';\n",
              "        })();\n",
              "      </script>\n",
              "    </div>\n",
              "\n",
              "    </div>\n",
              "  </div>\n"
            ],
            "application/vnd.google.colaboratory.intrinsic+json": {
              "type": "dataframe",
              "variable_name": "datos_grupo",
              "summary": "{\n  \"name\": \"datos_grupo\",\n  \"rows\": 36,\n  \"fields\": [\n    {\n      \"column\": \"estudiante\",\n      \"properties\": {\n        \"dtype\": \"number\",\n        \"std\": 10,\n        \"min\": 1,\n        \"max\": 36,\n        \"num_unique_values\": 36,\n        \"samples\": [\n          36,\n          14,\n          27\n        ],\n        \"semantic_type\": \"\",\n        \"description\": \"\"\n      }\n    },\n    {\n      \"column\": \"calificacion_final\",\n      \"properties\": {\n        \"dtype\": \"number\",\n        \"std\": 0.697137002317335,\n        \"min\": 1.9,\n        \"max\": 4.7,\n        \"num_unique_values\": 19,\n        \"samples\": [\n          3.0,\n          2.3,\n          3.3\n        ],\n        \"semantic_type\": \"\",\n        \"description\": \"\"\n      }\n    },\n    {\n      \"column\": \"porcentaje_asistencia_tutoria_grupal\",\n      \"properties\": {\n        \"dtype\": \"number\",\n        \"std\": 13,\n        \"min\": 0,\n        \"max\": 63,\n        \"num_unique_values\": 8,\n        \"samples\": [\n          54,\n          27,\n          36\n        ],\n        \"semantic_type\": \"\",\n        \"description\": \"\"\n      }\n    },\n    {\n      \"column\": \"porcentaje_ejercicios_talleres_refuerzo\",\n      \"properties\": {\n        \"dtype\": \"number\",\n        \"std\": 30,\n        \"min\": 0,\n        \"max\": 100,\n        \"num_unique_values\": 6,\n        \"samples\": [\n          100,\n          88,\n          66\n        ],\n        \"semantic_type\": \"\",\n        \"description\": \"\"\n      }\n    }\n  ]\n}"
            }
          },
          "metadata": {},
          "execution_count": 107
        }
      ],
      "source": [
        "# Se cargan los datos a un DataFrame\n",
        "datos_grupo = pd.read_csv('/content/datos_grupo.csv', sep=\";\")\n",
        "datos_grupo.head(10)"
      ]
    },
    {
      "cell_type": "markdown",
      "metadata": {
        "id": "uDF8_003aGnM"
      },
      "source": [
        "### Paso 3: Generar las estadísticas"
      ]
    },
    {
      "cell_type": "code",
      "execution_count": 108,
      "metadata": {
        "colab": {
          "base_uri": "https://localhost:8080/",
          "height": 300
        },
        "id": "3Xtl3LfWaGnM",
        "outputId": "2d3f20c8-4980-468c-c752-e7b450cab87f"
      },
      "outputs": [
        {
          "output_type": "execute_result",
          "data": {
            "text/plain": [
              "       estudiante  calificacion_final  porcentaje_asistencia_tutoria_grupal  \\\n",
              "count   36.000000           36.000000                             36.000000   \n",
              "mean    18.500000            3.683333                             33.250000   \n",
              "std     10.535654            0.697137                             13.404424   \n",
              "min      1.000000            1.900000                              0.000000   \n",
              "25%      9.750000            3.250000                             27.000000   \n",
              "50%     18.500000            3.700000                             36.000000   \n",
              "75%     27.250000            4.200000                             45.000000   \n",
              "max     36.000000            4.700000                             63.000000   \n",
              "\n",
              "       porcentaje_ejercicios_talleres_refuerzo  \n",
              "count                                 36.00000  \n",
              "mean                                  84.75000  \n",
              "std                                   30.71005  \n",
              "min                                    0.00000  \n",
              "25%                                   88.00000  \n",
              "50%                                  100.00000  \n",
              "75%                                  100.00000  \n",
              "max                                  100.00000  "
            ],
            "text/html": [
              "\n",
              "  <div id=\"df-078d3130-a661-4cd3-a8cb-e9e31a9b9f70\" class=\"colab-df-container\">\n",
              "    <div>\n",
              "<style scoped>\n",
              "    .dataframe tbody tr th:only-of-type {\n",
              "        vertical-align: middle;\n",
              "    }\n",
              "\n",
              "    .dataframe tbody tr th {\n",
              "        vertical-align: top;\n",
              "    }\n",
              "\n",
              "    .dataframe thead th {\n",
              "        text-align: right;\n",
              "    }\n",
              "</style>\n",
              "<table border=\"1\" class=\"dataframe\">\n",
              "  <thead>\n",
              "    <tr style=\"text-align: right;\">\n",
              "      <th></th>\n",
              "      <th>estudiante</th>\n",
              "      <th>calificacion_final</th>\n",
              "      <th>porcentaje_asistencia_tutoria_grupal</th>\n",
              "      <th>porcentaje_ejercicios_talleres_refuerzo</th>\n",
              "    </tr>\n",
              "  </thead>\n",
              "  <tbody>\n",
              "    <tr>\n",
              "      <th>count</th>\n",
              "      <td>36.000000</td>\n",
              "      <td>36.000000</td>\n",
              "      <td>36.000000</td>\n",
              "      <td>36.00000</td>\n",
              "    </tr>\n",
              "    <tr>\n",
              "      <th>mean</th>\n",
              "      <td>18.500000</td>\n",
              "      <td>3.683333</td>\n",
              "      <td>33.250000</td>\n",
              "      <td>84.75000</td>\n",
              "    </tr>\n",
              "    <tr>\n",
              "      <th>std</th>\n",
              "      <td>10.535654</td>\n",
              "      <td>0.697137</td>\n",
              "      <td>13.404424</td>\n",
              "      <td>30.71005</td>\n",
              "    </tr>\n",
              "    <tr>\n",
              "      <th>min</th>\n",
              "      <td>1.000000</td>\n",
              "      <td>1.900000</td>\n",
              "      <td>0.000000</td>\n",
              "      <td>0.00000</td>\n",
              "    </tr>\n",
              "    <tr>\n",
              "      <th>25%</th>\n",
              "      <td>9.750000</td>\n",
              "      <td>3.250000</td>\n",
              "      <td>27.000000</td>\n",
              "      <td>88.00000</td>\n",
              "    </tr>\n",
              "    <tr>\n",
              "      <th>50%</th>\n",
              "      <td>18.500000</td>\n",
              "      <td>3.700000</td>\n",
              "      <td>36.000000</td>\n",
              "      <td>100.00000</td>\n",
              "    </tr>\n",
              "    <tr>\n",
              "      <th>75%</th>\n",
              "      <td>27.250000</td>\n",
              "      <td>4.200000</td>\n",
              "      <td>45.000000</td>\n",
              "      <td>100.00000</td>\n",
              "    </tr>\n",
              "    <tr>\n",
              "      <th>max</th>\n",
              "      <td>36.000000</td>\n",
              "      <td>4.700000</td>\n",
              "      <td>63.000000</td>\n",
              "      <td>100.00000</td>\n",
              "    </tr>\n",
              "  </tbody>\n",
              "</table>\n",
              "</div>\n",
              "    <div class=\"colab-df-buttons\">\n",
              "\n",
              "  <div class=\"colab-df-container\">\n",
              "    <button class=\"colab-df-convert\" onclick=\"convertToInteractive('df-078d3130-a661-4cd3-a8cb-e9e31a9b9f70')\"\n",
              "            title=\"Convert this dataframe to an interactive table.\"\n",
              "            style=\"display:none;\">\n",
              "\n",
              "  <svg xmlns=\"http://www.w3.org/2000/svg\" height=\"24px\" viewBox=\"0 -960 960 960\">\n",
              "    <path d=\"M120-120v-720h720v720H120Zm60-500h600v-160H180v160Zm220 220h160v-160H400v160Zm0 220h160v-160H400v160ZM180-400h160v-160H180v160Zm440 0h160v-160H620v160ZM180-180h160v-160H180v160Zm440 0h160v-160H620v160Z\"/>\n",
              "  </svg>\n",
              "    </button>\n",
              "\n",
              "  <style>\n",
              "    .colab-df-container {\n",
              "      display:flex;\n",
              "      gap: 12px;\n",
              "    }\n",
              "\n",
              "    .colab-df-convert {\n",
              "      background-color: #E8F0FE;\n",
              "      border: none;\n",
              "      border-radius: 50%;\n",
              "      cursor: pointer;\n",
              "      display: none;\n",
              "      fill: #1967D2;\n",
              "      height: 32px;\n",
              "      padding: 0 0 0 0;\n",
              "      width: 32px;\n",
              "    }\n",
              "\n",
              "    .colab-df-convert:hover {\n",
              "      background-color: #E2EBFA;\n",
              "      box-shadow: 0px 1px 2px rgba(60, 64, 67, 0.3), 0px 1px 3px 1px rgba(60, 64, 67, 0.15);\n",
              "      fill: #174EA6;\n",
              "    }\n",
              "\n",
              "    .colab-df-buttons div {\n",
              "      margin-bottom: 4px;\n",
              "    }\n",
              "\n",
              "    [theme=dark] .colab-df-convert {\n",
              "      background-color: #3B4455;\n",
              "      fill: #D2E3FC;\n",
              "    }\n",
              "\n",
              "    [theme=dark] .colab-df-convert:hover {\n",
              "      background-color: #434B5C;\n",
              "      box-shadow: 0px 1px 3px 1px rgba(0, 0, 0, 0.15);\n",
              "      filter: drop-shadow(0px 1px 2px rgba(0, 0, 0, 0.3));\n",
              "      fill: #FFFFFF;\n",
              "    }\n",
              "  </style>\n",
              "\n",
              "    <script>\n",
              "      const buttonEl =\n",
              "        document.querySelector('#df-078d3130-a661-4cd3-a8cb-e9e31a9b9f70 button.colab-df-convert');\n",
              "      buttonEl.style.display =\n",
              "        google.colab.kernel.accessAllowed ? 'block' : 'none';\n",
              "\n",
              "      async function convertToInteractive(key) {\n",
              "        const element = document.querySelector('#df-078d3130-a661-4cd3-a8cb-e9e31a9b9f70');\n",
              "        const dataTable =\n",
              "          await google.colab.kernel.invokeFunction('convertToInteractive',\n",
              "                                                    [key], {});\n",
              "        if (!dataTable) return;\n",
              "\n",
              "        const docLinkHtml = 'Like what you see? Visit the ' +\n",
              "          '<a target=\"_blank\" href=https://colab.research.google.com/notebooks/data_table.ipynb>data table notebook</a>'\n",
              "          + ' to learn more about interactive tables.';\n",
              "        element.innerHTML = '';\n",
              "        dataTable['output_type'] = 'display_data';\n",
              "        await google.colab.output.renderOutput(dataTable, element);\n",
              "        const docLink = document.createElement('div');\n",
              "        docLink.innerHTML = docLinkHtml;\n",
              "        element.appendChild(docLink);\n",
              "      }\n",
              "    </script>\n",
              "  </div>\n",
              "\n",
              "\n",
              "    <div id=\"df-ac358dfe-3f2d-4742-8085-656233a37ab2\">\n",
              "      <button class=\"colab-df-quickchart\" onclick=\"quickchart('df-ac358dfe-3f2d-4742-8085-656233a37ab2')\"\n",
              "                title=\"Suggest charts\"\n",
              "                style=\"display:none;\">\n",
              "\n",
              "<svg xmlns=\"http://www.w3.org/2000/svg\" height=\"24px\"viewBox=\"0 0 24 24\"\n",
              "     width=\"24px\">\n",
              "    <g>\n",
              "        <path d=\"M19 3H5c-1.1 0-2 .9-2 2v14c0 1.1.9 2 2 2h14c1.1 0 2-.9 2-2V5c0-1.1-.9-2-2-2zM9 17H7v-7h2v7zm4 0h-2V7h2v10zm4 0h-2v-4h2v4z\"/>\n",
              "    </g>\n",
              "</svg>\n",
              "      </button>\n",
              "\n",
              "<style>\n",
              "  .colab-df-quickchart {\n",
              "      --bg-color: #E8F0FE;\n",
              "      --fill-color: #1967D2;\n",
              "      --hover-bg-color: #E2EBFA;\n",
              "      --hover-fill-color: #174EA6;\n",
              "      --disabled-fill-color: #AAA;\n",
              "      --disabled-bg-color: #DDD;\n",
              "  }\n",
              "\n",
              "  [theme=dark] .colab-df-quickchart {\n",
              "      --bg-color: #3B4455;\n",
              "      --fill-color: #D2E3FC;\n",
              "      --hover-bg-color: #434B5C;\n",
              "      --hover-fill-color: #FFFFFF;\n",
              "      --disabled-bg-color: #3B4455;\n",
              "      --disabled-fill-color: #666;\n",
              "  }\n",
              "\n",
              "  .colab-df-quickchart {\n",
              "    background-color: var(--bg-color);\n",
              "    border: none;\n",
              "    border-radius: 50%;\n",
              "    cursor: pointer;\n",
              "    display: none;\n",
              "    fill: var(--fill-color);\n",
              "    height: 32px;\n",
              "    padding: 0;\n",
              "    width: 32px;\n",
              "  }\n",
              "\n",
              "  .colab-df-quickchart:hover {\n",
              "    background-color: var(--hover-bg-color);\n",
              "    box-shadow: 0 1px 2px rgba(60, 64, 67, 0.3), 0 1px 3px 1px rgba(60, 64, 67, 0.15);\n",
              "    fill: var(--button-hover-fill-color);\n",
              "  }\n",
              "\n",
              "  .colab-df-quickchart-complete:disabled,\n",
              "  .colab-df-quickchart-complete:disabled:hover {\n",
              "    background-color: var(--disabled-bg-color);\n",
              "    fill: var(--disabled-fill-color);\n",
              "    box-shadow: none;\n",
              "  }\n",
              "\n",
              "  .colab-df-spinner {\n",
              "    border: 2px solid var(--fill-color);\n",
              "    border-color: transparent;\n",
              "    border-bottom-color: var(--fill-color);\n",
              "    animation:\n",
              "      spin 1s steps(1) infinite;\n",
              "  }\n",
              "\n",
              "  @keyframes spin {\n",
              "    0% {\n",
              "      border-color: transparent;\n",
              "      border-bottom-color: var(--fill-color);\n",
              "      border-left-color: var(--fill-color);\n",
              "    }\n",
              "    20% {\n",
              "      border-color: transparent;\n",
              "      border-left-color: var(--fill-color);\n",
              "      border-top-color: var(--fill-color);\n",
              "    }\n",
              "    30% {\n",
              "      border-color: transparent;\n",
              "      border-left-color: var(--fill-color);\n",
              "      border-top-color: var(--fill-color);\n",
              "      border-right-color: var(--fill-color);\n",
              "    }\n",
              "    40% {\n",
              "      border-color: transparent;\n",
              "      border-right-color: var(--fill-color);\n",
              "      border-top-color: var(--fill-color);\n",
              "    }\n",
              "    60% {\n",
              "      border-color: transparent;\n",
              "      border-right-color: var(--fill-color);\n",
              "    }\n",
              "    80% {\n",
              "      border-color: transparent;\n",
              "      border-right-color: var(--fill-color);\n",
              "      border-bottom-color: var(--fill-color);\n",
              "    }\n",
              "    90% {\n",
              "      border-color: transparent;\n",
              "      border-bottom-color: var(--fill-color);\n",
              "    }\n",
              "  }\n",
              "</style>\n",
              "\n",
              "      <script>\n",
              "        async function quickchart(key) {\n",
              "          const quickchartButtonEl =\n",
              "            document.querySelector('#' + key + ' button');\n",
              "          quickchartButtonEl.disabled = true;  // To prevent multiple clicks.\n",
              "          quickchartButtonEl.classList.add('colab-df-spinner');\n",
              "          try {\n",
              "            const charts = await google.colab.kernel.invokeFunction(\n",
              "                'suggestCharts', [key], {});\n",
              "          } catch (error) {\n",
              "            console.error('Error during call to suggestCharts:', error);\n",
              "          }\n",
              "          quickchartButtonEl.classList.remove('colab-df-spinner');\n",
              "          quickchartButtonEl.classList.add('colab-df-quickchart-complete');\n",
              "        }\n",
              "        (() => {\n",
              "          let quickchartButtonEl =\n",
              "            document.querySelector('#df-ac358dfe-3f2d-4742-8085-656233a37ab2 button');\n",
              "          quickchartButtonEl.style.display =\n",
              "            google.colab.kernel.accessAllowed ? 'block' : 'none';\n",
              "        })();\n",
              "      </script>\n",
              "    </div>\n",
              "\n",
              "    </div>\n",
              "  </div>\n"
            ],
            "application/vnd.google.colaboratory.intrinsic+json": {
              "type": "dataframe",
              "summary": "{\n  \"name\": \"datos_grupo\",\n  \"rows\": 8,\n  \"fields\": [\n    {\n      \"column\": \"estudiante\",\n      \"properties\": {\n        \"dtype\": \"number\",\n        \"std\": 12.671338437494404,\n        \"min\": 1.0,\n        \"max\": 36.0,\n        \"num_unique_values\": 6,\n        \"samples\": [\n          36.0,\n          18.5,\n          27.25\n        ],\n        \"semantic_type\": \"\",\n        \"description\": \"\"\n      }\n    },\n    {\n      \"column\": \"calificacion_final\",\n      \"properties\": {\n        \"dtype\": \"number\",\n        \"std\": 11.681802067220067,\n        \"min\": 0.697137002317335,\n        \"max\": 36.0,\n        \"num_unique_values\": 8,\n        \"samples\": [\n          3.683333333333333,\n          3.7,\n          36.0\n        ],\n        \"semantic_type\": \"\",\n        \"description\": \"\"\n      }\n    },\n    {\n      \"column\": \"porcentaje_asistencia_tutoria_grupal\",\n      \"properties\": {\n        \"dtype\": \"number\",\n        \"std\": 19.11495393071425,\n        \"min\": 0.0,\n        \"max\": 63.0,\n        \"num_unique_values\": 7,\n        \"samples\": [\n          36.0,\n          33.25,\n          45.0\n        ],\n        \"semantic_type\": \"\",\n        \"description\": \"\"\n      }\n    },\n    {\n      \"column\": \"porcentaje_ejercicios_talleres_refuerzo\",\n      \"properties\": {\n        \"dtype\": \"number\",\n        \"std\": 39.25835036088835,\n        \"min\": 0.0,\n        \"max\": 100.0,\n        \"num_unique_values\": 6,\n        \"samples\": [\n          36.0,\n          84.75,\n          100.0\n        ],\n        \"semantic_type\": \"\",\n        \"description\": \"\"\n      }\n    }\n  ]\n}"
            }
          },
          "metadata": {},
          "execution_count": 108
        }
      ],
      "source": [
        "# Se generan las estadísticas\n",
        "\n",
        "### INSERTE SU CÓDIGO AQUÍ ###\n",
        "\n",
        "datos_grupo.describe()"
      ]
    },
    {
      "cell_type": "code",
      "execution_count": 109,
      "metadata": {
        "colab": {
          "base_uri": "https://localhost:8080/",
          "height": 70
        },
        "id": "aZvOTST4aGnN",
        "outputId": "e674da4c-cac5-451d-e4e9-7159922ca8a5"
      },
      "outputs": [
        {
          "output_type": "execute_result",
          "data": {
            "text/plain": [
              "'\\n    ESCRIBA SU RESPUESTA AQUÍ...\\n\\n    -La \"Calificación Final\" está muy repartida entre los estudiantes (std 10.5)\\n    -Hay un estudiante con notas muy bajas (min 1.9)\\n    -Ningún estudiante asiste al 100% a las tutorías grupales (max 4.7)\\n    -El compromiso con los talleres es muy polarizado, hay muchos estudiantes que hacen todo, pero algunos no participan en lo absoluto (min 0%)\\n    -En los \"talleres de refuerzo\" es importante recalcar el compromiso, más de la mitad entrega todos los ejercicios (mediana 100%)\\n    -en general los estudiantes hacen casi todos los talleres de refuerzo (mean 84.75%)\\n\\n'"
            ],
            "application/vnd.google.colaboratory.intrinsic+json": {
              "type": "string"
            }
          },
          "metadata": {},
          "execution_count": 109
        }
      ],
      "source": [
        "# Interpretación de los resultados\n",
        "'''\n",
        "    ESCRIBA SU RESPUESTA AQUÍ...\n",
        "\n",
        "    -La \"Calificación Final\" está muy repartida entre los estudiantes (std 10.5)\n",
        "    -Hay un estudiante con notas muy bajas (min 1.9)\n",
        "    -Ningún estudiante asiste al 100% a las tutorías grupales (max 4.7)\n",
        "    -El compromiso con los talleres es muy polarizado, hay muchos estudiantes que hacen todo, pero algunos no participan en lo absoluto (min 0%)\n",
        "    -En los \"talleres de refuerzo\" es importante recalcar el compromiso, más de la mitad entrega todos los ejercicios (mediana 100%)\n",
        "    -en general los estudiantes hacen casi todos los talleres de refuerzo (mean 84.75%)\n",
        "\n",
        "'''\n"
      ]
    },
    {
      "cell_type": "markdown",
      "metadata": {
        "id": "1H4YUCtOaGnN"
      },
      "source": [
        "### Paso 4: Generar la correlación y significancia estadística entre porcentaje asistencia tutoria grupal y calificación final\n",
        "\n",
        "* Genere la correlación y significancia estadística entre: porcentaje asistencia tutoria grupal y calificación final.\n",
        "* Utilice las funciones correspondientes para: Pearson, Spearman y Kendall.\n",
        "* Interprete los resultados obtenidos."
      ]
    },
    {
      "cell_type": "code",
      "execution_count": 110,
      "metadata": {
        "colab": {
          "base_uri": "https://localhost:8080/"
        },
        "id": "FIS09xKraGnN",
        "outputId": "f2cf8308-24ef-47d3-8518-1f76a916d4db"
      },
      "outputs": [
        {
          "output_type": "stream",
          "name": "stdout",
          "text": [
            "Correlación Pearson: r=0.32791628025648895, p-value=0.05088760986927208\n",
            "Correlación Spearman: r=0.31527860117332429, p-value=0.06106870100713267\n",
            "Correlación Kendall: r=0.24167325432127926, p-value=0.05700850576840773\n"
          ]
        }
      ],
      "source": [
        "# Cálculo de correlación y significancia con Scipy\n",
        "# Donde:\n",
        "# r = coeficiente de correlación\n",
        "# p-value = test paramétrico de significancia estadística\n",
        "\n",
        "# Hipótesis nula (H0) indica que las variables son independiente (coeficiente de correlación poblaciones igual a 0)\n",
        "# Hipótesis alternativa (H1) indica que existe relación entre las variables (coeficiente de correlación poblacional diferente a 0)\n",
        "# Si p-value es menor a 0.05 se rechaza la H0\n",
        "\n",
        "# ==============================================================================\n",
        "\n",
        "### INSERTE SU CÓDIGO AQUÍ ###\n",
        "\n",
        "\n",
        "from scipy.stats import pearsonr, spearmanr, kendalltau\n",
        "\n",
        "#Se extraen las variables\n",
        "x = datos_grupo['porcentaje_asistencia_tutoria_grupal']\n",
        "y = datos_grupo['calificacion_final']\n",
        "\n",
        "#Correlación de pearson\n",
        "coef_pearson, p_pearson = pearsonr(datos_grupo['porcentaje_asistencia_tutoria_grupal'],\n",
        "                                   datos_grupo['calificacion_final'])\n",
        "print(f\"Correlación Pearson: r={coef_pearson:.17f}, p-value={p_pearson:.17f}\")\n",
        "\n",
        "# Correlación de Spearman\n",
        "coef_spearman, p_spearman = spearmanr(datos_grupo['porcentaje_asistencia_tutoria_grupal'],\n",
        "                                      datos_grupo['calificacion_final'])\n",
        "print(f\"Correlación Spearman: r={coef_spearman:.17f}, p-value={p_spearman:.17f}\")\n",
        "\n",
        "# Correlación de Kendall\n",
        "coef_kendall, p_kendall = kendalltau(datos_grupo['porcentaje_asistencia_tutoria_grupal'],\n",
        "                                     datos_grupo['calificacion_final'])\n",
        "print(f\"Correlación Kendall: r={coef_kendall:.17f}, p-value={p_kendall:.17f}\")"
      ]
    },
    {
      "cell_type": "code",
      "execution_count": 111,
      "metadata": {
        "colab": {
          "base_uri": "https://localhost:8080/",
          "height": 105
        },
        "id": "HyrzmGb4aGnO",
        "outputId": "1c77e6e3-b506-4b33-cacf-089caa5cce97"
      },
      "outputs": [
        {
          "output_type": "execute_result",
          "data": {
            "text/plain": [
              "'\\n    ESCRIBA SU RESPUESTA AQUÍ...\\n\\n    -Todos los coeficientes son positivos, cuando aumentan las tutorias tiende a aumentar la calificación final\\n    -Los valores de las magnitudes de \"r\" en las tres correlaciones (pearson, spearman y kendall) son calificados de correlaciones \"debiles a moderadas\"\\n     por lo que no son lo suficientemente grandes como para afirmar que la asistencia a tutorias determine con fuerza las notas, pero sí hay una ligera tendencia positiva.\\n    -Todos los p-values se encuentran en el rango de 0.05 y 0.06, que son un poco mayores que 0.05 lo que significa que con un nivel de confianza de 95%\\n     no podemos rechazar la hipotesis nula (H0), la evidencia estadistica no es suficiente para afirmar que la relación sea significativa.\\n\\n    -Quizá podría considerarse que la asistencia probablemente ayuda, pero los datos disponibles no lo confirman.\\n\\n\\n'"
            ],
            "application/vnd.google.colaboratory.intrinsic+json": {
              "type": "string"
            }
          },
          "metadata": {},
          "execution_count": 111
        }
      ],
      "source": [
        "# Interpretación de los resultados\n",
        "'''\n",
        "    ESCRIBA SU RESPUESTA AQUÍ...\n",
        "\n",
        "    -Todos los coeficientes son positivos, cuando aumentan las tutorias tiende a aumentar la calificación final\n",
        "    -Los valores de las magnitudes de \"r\" en las tres correlaciones (pearson, spearman y kendall) son calificados de correlaciones \"debiles a moderadas\"\n",
        "     por lo que no son lo suficientemente grandes como para afirmar que la asistencia a tutorias determine con fuerza las notas, pero sí hay una ligera tendencia positiva.\n",
        "    -Todos los p-values se encuentran en el rango de 0.05 y 0.06, que son un poco mayores que 0.05 lo que significa que con un nivel de confianza de 95%\n",
        "     no podemos rechazar la hipotesis nula (H0), la evidencia estadistica no es suficiente para afirmar que la relación sea significativa.\n",
        "\n",
        "    -Quizá podría considerarse que la asistencia probablemente ayuda, pero los datos disponibles no lo confirman.\n",
        "\n",
        "\n",
        "'''"
      ]
    },
    {
      "cell_type": "markdown",
      "metadata": {
        "id": "qDOGjV0VaGnO"
      },
      "source": [
        "### Paso 5: Genere la gráfica de porcentaje asistencia tutoria grupal VS calificación final\n",
        "\n",
        "* Genere una gráfica de puntos entre: porcentaje asistencia tutoria grupal VS calificación final\n",
        "* Adicione una recta de color verde que separe los estudiantes que aprobaron el curso de los que no aprobaron\n",
        "* Interprete la gráfica obtenida\n",
        "\n",
        "Nota: Recuerde que para aprobar el curso es necesario obtener una calificación igual o superior a 3.0"
      ]
    },
    {
      "cell_type": "code",
      "execution_count": 99,
      "metadata": {
        "id": "X3EpJs3LaGnO",
        "colab": {
          "base_uri": "https://localhost:8080/",
          "height": 487
        },
        "outputId": "a72fd286-064d-44dc-f894-f8e203c7b354"
      },
      "outputs": [
        {
          "output_type": "display_data",
          "data": {
            "text/plain": [
              "<Figure size 640x480 with 1 Axes>"
            ],
            "image/png": "[encoded data removed]"
          },
          "metadata": {}
        }
      ],
      "source": [
        "### INSERTE SU CÓDIGO AQUÍ ###\n",
        "\n",
        "datos_grupo.plot(x='porcentaje_asistencia_tutoria_grupal', y='calificacion_final', kind='scatter')\n",
        "plt.grid(True)\n",
        "plt.title(\"Porcentaje entre asistencia tutoria grupal y calificación final\", fontsize=13)\n",
        "plt.axhline(y=3, color='green', linestyle='--', linewidth=2)\n",
        "plt.text(3, 3.2, \"Zona de aprobación\", fontsize=10, color=\"green\")\n",
        "\n",
        "plt.tight_layout()"
      ]
    },
    {
      "cell_type": "code",
      "execution_count": 100,
      "metadata": {
        "colab": {
          "base_uri": "https://localhost:8080/",
          "height": 53
        },
        "id": "7WgFjd2paGnP",
        "outputId": "d8d14330-8441-4234-d79e-93418bcef8ce"
      },
      "outputs": [
        {
          "output_type": "execute_result",
          "data": {
            "text/plain": [
              "'\\n    ESCRIBA SU RESPUESTA AQUÍ...\\n\\n    -La mayoría de los estudiantes tienen calificaciones por encima de 3.0 es decir, aprueban.\\n    -Se observa que los estudiantes aprobados se concentran en los porcentajes de asistencia entre 0 y 45%\\n    -Hay una ligera tendencia positiva, a medida que aumenta la asistencia, las calificaciones tienen a ser un poco mas altas.\\n\\n\\n'"
            ],
            "application/vnd.google.colaboratory.intrinsic+json": {
              "type": "string"
            }
          },
          "metadata": {},
          "execution_count": 100
        }
      ],
      "source": [
        "# Interpretación de la gráfica\n",
        "'''\n",
        "    ESCRIBA SU RESPUESTA AQUÍ...\n",
        "\n",
        "    -La mayoría de los estudiantes tienen calificaciones por encima de 3.0 es decir, aprueban.\n",
        "    -Se observa que los estudiantes aprobados se concentran en los porcentajes de asistencia entre 0 y 45%\n",
        "    -Hay una ligera tendencia positiva, a medida que aumenta la asistencia, las calificaciones tienen a ser un poco mas altas.\n",
        "\n",
        "\n",
        "'''"
      ]
    },
    {
      "cell_type": "markdown",
      "metadata": {
        "id": "PWWzcO7baGnP"
      },
      "source": [
        "### Paso 6: Generar la correlación y significancia estadística entre porcentaje ejercicios talleres de refuerzo y calificación final\n",
        "\n",
        "* Genere la correlación y significancia estadística entre: porcentaje ejercicios talleres de refuerzo y calificación final\n",
        "* Utilice las funciones correspondientes para: Pearson, Spearman y Kendall.\n",
        "* Interprete los resultados obtenidos."
      ]
    },
    {
      "cell_type": "code",
      "execution_count": 101,
      "metadata": {
        "id": "WfV8UDIGaGnP",
        "colab": {
          "base_uri": "https://localhost:8080/"
        },
        "outputId": "3fc7cf7a-067a-48c4-8e73-f04ff7a83c23"
      },
      "outputs": [
        {
          "output_type": "stream",
          "name": "stdout",
          "text": [
            "Correlación Pearson: r=0.28512559273416915, p-value=0.09187865835457622\n",
            "Correlación Spearman: r=0.22704121068497740, p-value=0.18297900882037302\n",
            "Correlación Kendall: r=0.18309556480110692, p-value=0.17528886701857793\n"
          ]
        }
      ],
      "source": [
        "# Cálculo de correlación: porcentaje ejercicios talleres de refuerzo VS calificación final\n",
        "# ==============================================================================\n",
        "\n",
        "### INSERTE SU CÓDIGO AQUÍ ###\n",
        "\n",
        "# Cálculo de correlación y significancia con Scipy\n",
        "# Donde:\n",
        "# r = coeficiente de correlación\n",
        "# p-value = test paramétrico de significancia estadística\n",
        "\n",
        "# Hipótesis nula (H0) indica que las variables son independiente (coeficiente de correlación poblaciones igual a 0)\n",
        "# Hipótesis alternativa (H1) indica que existe relación entre las variables (coeficiente de correlación poblacional diferente a 0)\n",
        "# Si p-value es menor a 0.05 se rechaza la H0\n",
        "\n",
        "# ==============================================================================\n",
        "\n",
        "from scipy.stats import pearsonr, spearmanr, kendalltau\n",
        "\n",
        "#Se extraen las variables\n",
        "x = datos_grupo['porcentaje_ejercicios_talleres_refuerzo']\n",
        "y = datos_grupo['calificacion_final']\n",
        "\n",
        "#Correlación de pearson\n",
        "coef_pearson, p_pearson = pearsonr(datos_grupo['porcentaje_ejercicios_talleres_refuerzo'],\n",
        "                                   datos_grupo['calificacion_final'])\n",
        "print(f\"Correlación Pearson: r={coef_pearson:.17f}, p-value={p_pearson:.17f}\")\n",
        "\n",
        "# Correlación de Spearman\n",
        "coef_spearman, p_spearman = spearmanr(datos_grupo['porcentaje_ejercicios_talleres_refuerzo'],\n",
        "                                      datos_grupo['calificacion_final'])\n",
        "print(f\"Correlación Spearman: r={coef_spearman:.17f}, p-value={p_spearman:.17f}\")\n",
        "\n",
        "# Correlación de Kendall\n",
        "coef_kendall, p_kendall = kendalltau(datos_grupo['porcentaje_ejercicios_talleres_refuerzo'],\n",
        "                                     datos_grupo['calificacion_final'])\n",
        "print(f\"Correlación Kendall: r={coef_kendall:.17f}, p-value={p_kendall:.17f}\")\n"
      ]
    },
    {
      "cell_type": "code",
      "execution_count": 102,
      "metadata": {
        "colab": {
          "base_uri": "https://localhost:8080/",
          "height": 70
        },
        "id": "vv8OC0xRaGnP",
        "outputId": "860e9637-7d01-4739-f1f9-ca04fbddce42"
      },
      "outputs": [
        {
          "output_type": "execute_result",
          "data": {
            "text/plain": [
              "'\\n    ESCRIBA SU RESPUESTA AQUÍ...\\n\\n    -Los tres coeficientes son positivos, cuando aumentan los ejercicios de refuerzo tiende a aumentar la calificación final\\n    -Los valores de las magnitudes de \"r\" en las tres correlaciones (pearson, spearman y kendall) son calificados de correlaciones \"debiles\"\\n     esto sifnifica que la relación existe pero no es fuerte.\\n    -Todos los p-values en esta correlación son mayores a 0.05 por lo que estadisticamente no tiene confianza al 95%, pearson se encuentra cerca (0.092), quizá exista una posible tendencia pero no es suficiente para afirmarlo con seguridad.\\n\\n\\n'"
            ],
            "application/vnd.google.colaboratory.intrinsic+json": {
              "type": "string"
            }
          },
          "metadata": {},
          "execution_count": 102
        }
      ],
      "source": [
        "# Interpretación de los resultados\n",
        "'''\n",
        "    ESCRIBA SU RESPUESTA AQUÍ...\n",
        "\n",
        "    -Los tres coeficientes son positivos, cuando aumentan los ejercicios de refuerzo tiende a aumentar la calificación final\n",
        "    -Los valores de las magnitudes de \"r\" en las tres correlaciones (pearson, spearman y kendall) son calificados de correlaciones \"debiles\"\n",
        "     esto sifnifica que la relación existe pero no es fuerte.\n",
        "    -Todos los p-values en esta correlación son mayores a 0.05 por lo que estadisticamente no tiene confianza al 95%, pearson se encuentra cerca (0.092), quizá exista una posible tendencia pero no es suficiente para afirmarlo con seguridad.\n",
        "\n",
        "\n",
        "'''"
      ]
    },
    {
      "cell_type": "markdown",
      "metadata": {
        "id": "hSYTuOdQaGnQ"
      },
      "source": [
        "### Paso 7: Genere la gráfica de porcentaje ejercicios talleres refuerzo VS calificación final\n",
        "\n",
        "* Genere una gráfica de puntos entre: porcentaje ejercicios talleres refuerzo VS calificación final\n",
        "* Adicione una recta de color verde que separe los estudiantes que aprobaron el curso de los que no aprobaron\n",
        "* Interprete la gráfica obtenida\n",
        "\n",
        "Nota: Recuerde que para aprobar el curso es necesario obtener una calificación igual o superior a 3.0"
      ]
    },
    {
      "cell_type": "code",
      "source": [
        "datos_grupo.info()"
      ],
      "metadata": {
        "colab": {
          "base_uri": "https://localhost:8080/"
        },
        "id": "OkNUYAttv6wf",
        "outputId": "5631a4da-8d56-441c-bddb-4b80e30086b0"
      },
      "execution_count": 103,
      "outputs": [
        {
          "output_type": "stream",
          "name": "stdout",
          "text": [
            "<class 'pandas.core.frame.DataFrame'>\n",
            "RangeIndex: 36 entries, 0 to 35\n",
            "Data columns (total 4 columns):\n",
            " #   Column                                   Non-Null Count  Dtype  \n",
            "---  ------                                   --------------  -----  \n",
            " 0   estudiante                               36 non-null     int64  \n",
            " 1   calificacion_final                       36 non-null     float64\n",
            " 2   porcentaje_asistencia_tutoria_grupal     36 non-null     int64  \n",
            " 3   porcentaje_ejercicios_talleres_refuerzo  36 non-null     int64  \n",
            "dtypes: float64(1), int64(3)\n",
            "memory usage: 1.3 KB\n"
          ]
        }
      ]
    },
    {
      "cell_type": "code",
      "execution_count": 104,
      "metadata": {
        "id": "DIgw_Zo3aGnQ",
        "colab": {
          "base_uri": "https://localhost:8080/",
          "height": 487
        },
        "outputId": "eca175f8-2966-443d-e671-3da4acc4a99d"
      },
      "outputs": [
        {
          "output_type": "display_data",
          "data": {
            "text/plain": [
              "<Figure size 640x480 with 1 Axes>"
            ],
            "image/png": "[encoded data removed]"
          },
          "metadata": {}
        }
      ],
      "source": [
        "### INSERTE SU CÓDIGO AQUÍ ###\n",
        "\n",
        "datos_grupo.plot(x='porcentaje_ejercicios_talleres_refuerzo', y='calificacion_final', kind='scatter')\n",
        "plt.grid(True)\n",
        "plt.title(\"Porcentaje entre asistencia tutoria grupal y calificación final\", fontsize=13)\n",
        "plt.axhline(y=3, color='green', linestyle='--', linewidth=2)\n",
        "plt.text(3, 3.2, \"Zona de aprobación\", fontsize=10, color=\"green\")\n",
        "\n",
        "plt.tight_layout()"
      ]
    },
    {
      "cell_type": "code",
      "execution_count": 105,
      "metadata": {
        "colab": {
          "base_uri": "https://localhost:8080/",
          "height": 87
        },
        "id": "aeZzTWgKaGnQ",
        "outputId": "722f226f-aee6-4891-be98-210039e7a523"
      },
      "outputs": [
        {
          "output_type": "execute_result",
          "data": {
            "text/plain": [
              "'\\n    ESCRIBA SU RESPUESTA AQUÍ...\\n\\n    -Hay un grupo de estudiantes que realizaron casi el 100% de los talleres de refuerzo, pero sus calificaciones finales no siempre superan 3.0.\\n    -También existen casos donde estudiantes con poca o nula particicaión logran notas aprobatorias.\\n    -Se observa una tendencia leve positiva: a mayor porcentaje de talleres, en promedio, la calificación final tiende a ser un poco mayor.\\n    -La mayoría de los estudiantes que hicieron muchos talleres lograron ubicarse en zonas de aprobación, aún así no es una garantía porque algunos siguen por debajo de la línea verde.\\n    -La gráfica respalda lo que mostraron los coeficientes de correlación, una correlación positiva, pero debíl y no estadisticamente significativa.\\n\\n'"
            ],
            "application/vnd.google.colaboratory.intrinsic+json": {
              "type": "string"
            }
          },
          "metadata": {},
          "execution_count": 105
        }
      ],
      "source": [
        "# Interpretación de la gráfica\n",
        "'''\n",
        "    ESCRIBA SU RESPUESTA AQUÍ...\n",
        "\n",
        "    -Hay un grupo de estudiantes que realizaron casi el 100% de los talleres de refuerzo, pero sus calificaciones finales no siempre superan 3.0.\n",
        "    -También existen casos donde estudiantes con poca o nula particicaión logran notas aprobatorias.\n",
        "    -Se observa una tendencia leve positiva: a mayor porcentaje de talleres, en promedio, la calificación final tiende a ser un poco mayor.\n",
        "    -La mayoría de los estudiantes que hicieron muchos talleres lograron ubicarse en zonas de aprobación, aún así no es una garantía porque algunos siguen por debajo de la línea verde.\n",
        "    -La gráfica respalda lo que mostraron los coeficientes de correlación, una correlación positiva, pero debíl y no estadisticamente significativa.\n",
        "\n",
        "'''"
      ]
    }
  ],
  "metadata": {
    "kernelspec": {
      "display_name": "Python 3",
      "language": "python",
      "name": "python3"
    },
    "language_info": {
      "codemirror_mode": {
        "name": "ipython",
        "version": 3
      },
      "file_extension": ".py",
      "mimetype": "text/x-python",
      "name": "python",
      "nbconvert_exporter": "python",
      "pygments_lexer": "ipython3",
      "version": "3.9.13"
    },
    "orig_nbformat": 4,
    "colab": {
      "provenance": []
    }
  },
  "nbformat": 4,
  "nbformat_minor": 0
}